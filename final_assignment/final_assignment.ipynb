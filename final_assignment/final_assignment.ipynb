{
 "cells": [
  {
   "cell_type": "markdown",
   "metadata": {},
   "source": [
    "### The Assignment ###\n",
    "Take a [ZIP file](https://en.wikipedia.org/wiki/Zip_(file_format)) of images and process them, using a [library built into python](https://docs.python.org/3/library/zipfile.html) that you need to learn how to use. A ZIP file takes several different files and compresses them, thus saving space, into one single file. The files in the ZIP file we provide are newspaper images (like you saw in week 3). Your task is to write python code which allows one to search through the images looking for the occurrences of keywords and faces. E.g. if you search for \"pizza\" it will return a contact sheet of all of the faces which were located on the newspaper page which mentions \"pizza\". This will test your ability to learn a new ([library](https://docs.python.org/3/library/zipfile.html)), your ability to use OpenCV to detect faces, your ability to use tesseract to do optical character recognition, and your ability to use PIL to composite images together into contact sheets.\n",
    "\n",
    "Each page of the newspapers is saved as a single PNG image in a file called [small_img.zip](./small_img.zip). These newspapers are in english, and contain a variety of stories, advertisements and images. \n",
    "\n",
    "Here's an example of the output expected. Using the [small_img.zip](./small_img.zip) file, if I search for the string \"Christopher\" I should see the following image:\n",
    "![Christopher Search](./small_project.png)"
   ]
  },
  {
   "cell_type": "code",
   "execution_count": null,
   "metadata": {},
   "outputs": [],
   "source": [
    "from zipfile import ZipFile\n",
    "from PIL import Image\n",
    "from IPython.display import display\n",
    "import pytesseract\n",
    "import cv2 as cv\n",
    "import numpy as np\n",
    "\n",
    "# load face detection classifier\n",
    "face_cascade = cv.CascadeClassifier(\"haarcascade_frontalface_default.xml\")\n",
    "\n",
    "# dictionary to store images, faces and text\n",
    "img_dic = {}\n",
    "\n",
    "# store PIL images in the dictionary only once to be accessed latter\n",
    "with ZipFile(\"images.zip\") as archive:\n",
    "    for entry in archive.infolist():\n",
    "        with archive.open(entry) as file:\n",
    "            img = Image.open(file).convert(\"RGB\")\n",
    "            img_dic[entry.filename] = {\"pil_img\":img}\n",
    "\n",
    "for img_name in img_dic:\n",
    "\n",
    "    # cut and store faces in dictionary for each image\n",
    "    img_cv = np.array(img_dic[img_name][\"pil_img\"]) \n",
    "    img_gray = cv.cvtColor(img_cv, cv.COLOR_BGR2GRAY)\n",
    "    bbs = face_cascade.detectMultiScale(img_gray, 1.3, 5)\n",
    "    img_dic[img_name][\"faces\"] = []\n",
    "    for x,y,w,h in bbs:\n",
    "        face = img_dic[img_name][\"pil_img\"].crop((x, y, x+w, y+h))\n",
    "        face.thumbnail((100,100),Image.ANTIALIAS)\n",
    "        img_dic[img_name][\"faces\"].append(face)\n",
    "        \n",
    "    # store texts in dictionary for each image\n",
    "    img_dic[img_name][\"text\"] = pytesseract.image_to_string(img_dic[img_name][\"pil_img\"])\n",
    "\n",
    "# search \"name\" in each image's text\n",
    "# if there is \"name\", display faces found in that image\n",
    "def search(name):\n",
    "    for img_name in img_dic:\n",
    "        if (name in img_dic[img_name][\"text\"]):\n",
    "            if(len(img_dic[img_name][\"faces\"]) > 0):\n",
    "                print(f\"Results found in file {img_name}\")\n",
    "                h = int(len(img_dic[img_name][\"faces\"])/5)+1\n",
    "                contact_sheet=Image.new(\"RGB\",(500, 100*h))\n",
    "                x = 0\n",
    "                y = 0\n",
    "                for img in img_dic[img_name][\"faces\"]:\n",
    "                    contact_sheet.paste(img, (x, y))\n",
    "                    if x + 100 == contact_sheet.width:\n",
    "                        x = 0\n",
    "                        y += 100\n",
    "                    else:\n",
    "                        x += 100\n",
    "                display(contact_sheet)\n",
    "            else:\n",
    "                print(f\"Result found in file {img_name} \\nBut there were no faces in that file\\n\\n\")\n",
    "    return"
   ]
  },
  {
   "cell_type": "code",
   "execution_count": null,
   "metadata": {},
   "outputs": [],
   "source": []
  }
 ],
 "metadata": {
  "anaconda-cloud": {},
  "kernelspec": {
   "display_name": "Python 3",
   "language": "python",
   "name": "python3"
  },
  "language_info": {
   "codemirror_mode": {
    "name": "ipython",
    "version": 3
   },
   "file_extension": ".py",
   "mimetype": "text/x-python",
   "name": "python",
   "nbconvert_exporter": "python",
   "pygments_lexer": "ipython3",
   "version": "3.7.1"
  }
 },
 "nbformat": 4,
 "nbformat_minor": 2
}
